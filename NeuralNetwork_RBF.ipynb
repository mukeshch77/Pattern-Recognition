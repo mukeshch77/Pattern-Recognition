{
 "cells": [
  {
   "cell_type": "code",
   "execution_count": 11,
   "metadata": {},
   "outputs": [],
   "source": [
    "import numpy as np\n",
    "import torch\n",
    "import torch.nn as nn\n",
    "import torch.optim as optim"
   ]
  },
  {
   "cell_type": "code",
   "execution_count": 12,
   "metadata": {},
   "outputs": [],
   "source": [
    "# RBF Kernel function\n",
    "def rbf_kernel(x1, x2, gamma=0.1):\n",
    "    # Calculating the squared Euclidean distance between x1 and x2\n",
    "    dist_sq = torch.cdist(x1, x2) ** 2  # squared Euclidean distance\n",
    "    return torch.exp(-gamma * dist_sq)"
   ]
  },
  {
   "cell_type": "code",
   "execution_count": 13,
   "metadata": {},
   "outputs": [],
   "source": [
    "# Custom Neural Network class with Kernel-based activation\n",
    "class KernelNN(nn.Module):\n",
    "    def __init__(self, input_size, hidden_size, output_size):\n",
    "        super(KernelNN, self).__init__()\n",
    "        \n",
    "        # Define the layers (weights are initialized automatically)\n",
    "        self.fc1 = nn.Linear(input_size, hidden_size)\n",
    "        self.fc2 = nn.Linear(hidden_size, output_size)\n",
    "    \n",
    "    def forward(self, x):\n",
    "        # Apply the RBF kernel to the input and weights of the first layer\n",
    "        hidden_output = rbf_kernel(x, self.fc1.weight)  # x is (batch_size, input_size), self.fc1.weight is (hidden_size, input_size)\n",
    "        \n",
    "        # Apply bias for the hidden layer output\n",
    "        hidden_output = hidden_output + self.fc1.bias.view(1, -1)\n",
    "        \n",
    "        # Apply the RBF kernel to the hidden layer output and weights of the second layer\n",
    "        output = rbf_kernel(hidden_output, self.fc2.weight)\n",
    "        \n",
    "        # Apply bias for the output layer\n",
    "        output = output + self.fc2.bias.view(1, -1)\n",
    "        \n",
    "        return output"
   ]
  },
  {
   "cell_type": "code",
   "execution_count": 14,
   "metadata": {},
   "outputs": [],
   "source": [
    "# Sample dataset (for example, using a random dataset)\n",
    "X = torch.randn(10, 5)  # 10 samples, 5 features\n",
    "y = torch.randint(0, 2, (10, 1))  # Binary target (0 or 1)"
   ]
  },
  {
   "cell_type": "code",
   "execution_count": 15,
   "metadata": {},
   "outputs": [],
   "source": [
    "# Instantiate the neural network\n",
    "model = KernelNN(input_size=5, hidden_size=3, output_size=1)"
   ]
  },
  {
   "cell_type": "code",
   "execution_count": 16,
   "metadata": {},
   "outputs": [],
   "source": [
    "# Loss function and optimizer\n",
    "criterion = nn.MSELoss()\n",
    "optimizer = optim.SGD(model.parameters(), lr=0.01)"
   ]
  },
  {
   "cell_type": "code",
   "execution_count": 17,
   "metadata": {},
   "outputs": [
    {
     "name": "stdout",
     "output_type": "stream",
     "text": [
      "Epoch [1/100], Loss: 0.3554430603981018\n",
      "Epoch [11/100], Loss: 0.31897324323654175\n",
      "Epoch [21/100], Loss: 0.29481732845306396\n",
      "Epoch [31/100], Loss: 0.2788243889808655\n",
      "Epoch [41/100], Loss: 0.2682393491268158\n",
      "Epoch [51/100], Loss: 0.2612352967262268\n",
      "Epoch [61/100], Loss: 0.25660133361816406\n",
      "Epoch [71/100], Loss: 0.25353553891181946\n",
      "Epoch [81/100], Loss: 0.25150686502456665\n",
      "Epoch [91/100], Loss: 0.2501640319824219\n"
     ]
    }
   ],
   "source": [
    "# Training loop (for simplicity, we’ll just do one iteration)\n",
    "for epoch in range(100):\n",
    "    optimizer.zero_grad()  # Reset gradients\n",
    "    \n",
    "    # Forward pass\n",
    "    outputs = model(X)\n",
    "    \n",
    "    # Compute the loss\n",
    "    loss = criterion(outputs, y.float())\n",
    "    \n",
    "    # Backward pass and optimize\n",
    "    loss.backward()\n",
    "    optimizer.step()\n",
    "    \n",
    "    if epoch % 10 == 0:\n",
    "        print(f'Epoch [{epoch+1}/100], Loss: {loss.item()}')"
   ]
  },
  {
   "cell_type": "code",
   "execution_count": null,
   "metadata": {},
   "outputs": [],
   "source": []
  }
 ],
 "metadata": {
  "kernelspec": {
   "display_name": "Python 3",
   "language": "python",
   "name": "python3"
  },
  "language_info": {
   "codemirror_mode": {
    "name": "ipython",
    "version": 3
   },
   "file_extension": ".py",
   "mimetype": "text/x-python",
   "name": "python",
   "nbconvert_exporter": "python",
   "pygments_lexer": "ipython3",
   "version": "3.12.9"
  }
 },
 "nbformat": 4,
 "nbformat_minor": 2
}
