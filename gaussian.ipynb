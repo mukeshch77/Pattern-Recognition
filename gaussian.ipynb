{
 "cells": [
  {
   "cell_type": "code",
   "execution_count": 5,
   "metadata": {},
   "outputs": [
    {
     "name": "stdout",
     "output_type": "stream",
     "text": [
      "RBF Kernel Value: 0.22313016014842982\n"
     ]
    }
   ],
   "source": [
    "import numpy as np\n",
    "\n",
    "def rbf_kernel(x, y, sigma=1.0):\n",
    "\n",
    "    diff = x - y    \n",
    "    squared_distance = np.dot(diff, diff) \n",
    "\n",
    "    kernel_value = np.exp(-squared_distance / (2 * sigma**2)) \n",
    "    \n",
    "    return kernel_value\n",
    "\n",
    "x = np.array([1, 3, 5])\n",
    "y = np.array([2, 4, 6])\n",
    "\n",
    "kernel_value = rbf_kernel(x, y, sigma=1.0)\n",
    "\n",
    "print(\"RBF Kernel Value:\", kernel_value)\n"
   ]
  },
  {
   "cell_type": "code",
   "execution_count": 6,
   "metadata": {},
   "outputs": [
    {
     "name": "stdout",
     "output_type": "stream",
     "text": [
      "RBF Kernel Matrix:\n",
      "[[1.00000000e+00 1.37095909e-06 3.53262857e-24 1.71088354e-53]\n",
      " [1.37095909e-06 1.00000000e+00 1.37095909e-06 3.53262857e-24]\n",
      " [3.53262857e-24 1.37095909e-06 1.00000000e+00 1.37095909e-06]\n",
      " [1.71088354e-53 3.53262857e-24 1.37095909e-06 1.00000000e+00]]\n"
     ]
    }
   ],
   "source": [
    "import numpy as np\n",
    "\n",
    "def compute_rbf_kernel_matrix(X, sigma=1.0):\n",
    "   \n",
    "    m = X.shape[0] \n",
    "    kernel_matrix = np.zeros((m, m)) \n",
    "    \n",
    "    for i in range(m):\n",
    "        for j in range(m):\n",
    "     \n",
    "            diff = X[i] - X[j]\n",
    "            squared_distance = np.dot(diff, diff)\n",
    "            \n",
    "            kernel_matrix[i, j] = np.exp(-squared_distance / (2 * sigma**2))\n",
    "    \n",
    "    return kernel_matrix\n",
    "\n",
    "X = np.array([[1, 2, 3],\n",
    "              [4, 5, 6],\n",
    "              [7, 8, 9],\n",
    "              [10, 11, 12]])\n",
    "\n",
    "sigma = 1.0\n",
    "kernel_matrix = compute_rbf_kernel_matrix(X, sigma)\n",
    "\n",
    "print(\"RBF Kernel Matrix:\")\n",
    "print(kernel_matrix)\n"
   ]
  },
  {
   "cell_type": "code",
   "execution_count": null,
   "metadata": {},
   "outputs": [],
   "source": []
  }
 ],
 "metadata": {
  "kernelspec": {
   "display_name": "Python 3",
   "language": "python",
   "name": "python3"
  },
  "language_info": {
   "codemirror_mode": {
    "name": "ipython",
    "version": 3
   },
   "file_extension": ".py",
   "mimetype": "text/x-python",
   "name": "python",
   "nbconvert_exporter": "python",
   "pygments_lexer": "ipython3",
   "version": "3.12.9"
  }
 },
 "nbformat": 4,
 "nbformat_minor": 2
}
